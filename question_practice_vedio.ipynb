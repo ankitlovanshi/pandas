{
 "cells": [
  {
   "cell_type": "code",
   "execution_count": 169,
   "id": "c0590837-3331-4d93-aad3-9949d4e52acd",
   "metadata": {},
   "outputs": [],
   "source": [
    "import pandas as pd\n",
    "import numpy as np\n",
    "import matplotlib.pyplot as plt"
   ]
  },
  {
   "cell_type": "code",
   "execution_count": 2,
   "id": "a0a51fba-b397-4ec0-86e2-1d92de38f061",
   "metadata": {},
   "outputs": [
    {
     "data": {
      "text/plain": [
       "0    10\n",
       "1    20\n",
       "2    30\n",
       "3    40\n",
       "4    50\n",
       "dtype: int64"
      ]
     },
     "execution_count": 2,
     "metadata": {},
     "output_type": "execute_result"
    }
   ],
   "source": [
    "pd.Series([10, 20, 30, 40, 50])"
   ]
  },
  {
   "cell_type": "code",
   "execution_count": 2,
   "id": "23acad1f-9e8c-4ed2-859d-74cec08c502e",
   "metadata": {},
   "outputs": [
    {
     "data": {
      "text/plain": [
       "0      Ankit\n",
       "1    Sourabh\n",
       "2        Raj\n",
       "3    Karuana\n",
       "dtype: object"
      ]
     },
     "execution_count": 2,
     "metadata": {},
     "output_type": "execute_result"
    }
   ],
   "source": [
    "import numpy as np\n",
    "import pandas as pd\n",
    "\n",
    "# series with defult indexs\n",
    "names = [\"Ankit\", \"Sourabh\", \"Raj\", \"Karuana\"]\n",
    "names_series = pd.Series(names)\n",
    "names_series"
   ]
  },
  {
   "cell_type": "code",
   "execution_count": 3,
   "id": "10548bc3-f5a7-4b28-b0fc-458d8288115f",
   "metadata": {},
   "outputs": [
    {
     "data": {
      "text/plain": [
       "Ankit      23\n",
       "Sourabh    20\n",
       "Raj        24\n",
       "Karuana    19\n",
       "dtype: int64"
      ]
     },
     "execution_count": 3,
     "metadata": {},
     "output_type": "execute_result"
    }
   ],
   "source": [
    "import numpy as np\n",
    "import pandas as pd\n",
    "\n",
    "#  series with indexs\n",
    "age = [23, 20, 24, 19]\n",
    "names_series = pd.Series(age, index = names)\n",
    "names_series"
   ]
  },
  {
   "cell_type": "code",
   "execution_count": 17,
   "id": "025ba3e7-912b-49c1-9aab-4f5410c48b56",
   "metadata": {},
   "outputs": [
    {
     "data": {
      "text/plain": [
       "AUS    183\n",
       "PAK    192\n",
       "BAN    109\n",
       "SA     149\n",
       "Name: Virat Kohali most runs, dtype: int64"
      ]
     },
     "execution_count": 17,
     "metadata": {},
     "output_type": "execute_result"
    }
   ],
   "source": [
    "import numpy as np\n",
    "import pandas as pd\n",
    "\n",
    "#  series with dictionary\n",
    "vk_runs = { \n",
    "    \"AUS\" : 183,\n",
    "    \"PAK\" : 192,\n",
    "    \"BAN\" : 109,\n",
    "    \"SA\" : 149\n",
    "}\n",
    "vk_runs_series = pd.Series(vk_runs, name = \"Virat Kohali most runs\")\n",
    "vk_runs_series"
   ]
  },
  {
   "cell_type": "code",
   "execution_count": 11,
   "id": "72cedd4f-635f-48e7-84de-ad96aee30f00",
   "metadata": {},
   "outputs": [],
   "source": [
    "# Attribute \n",
    "# dtype, size, index, value, name, is_unique"
   ]
  },
  {
   "cell_type": "code",
   "execution_count": 12,
   "id": "805a3658-5a1c-4d84-95a6-71f916084591",
   "metadata": {},
   "outputs": [
    {
     "data": {
      "text/plain": [
       "dtype('int64')"
      ]
     },
     "execution_count": 12,
     "metadata": {},
     "output_type": "execute_result"
    }
   ],
   "source": [
    "# show the data type\n",
    "vk_runs_series.dtype"
   ]
  },
  {
   "cell_type": "code",
   "execution_count": 13,
   "id": "fb81ad3d-8aa2-41ea-893c-a5b133a390f8",
   "metadata": {},
   "outputs": [
    {
     "data": {
      "text/plain": [
       "Index(['AUS', 'PAK', 'BAN', 'SA'], dtype='object')"
      ]
     },
     "execution_count": 13,
     "metadata": {},
     "output_type": "execute_result"
    }
   ],
   "source": [
    "# gives the numpy array of the index\n",
    "vk_runs_series.index"
   ]
  },
  {
   "cell_type": "code",
   "execution_count": 14,
   "id": "132409e3-32b9-47e3-bfec-0cad769068ee",
   "metadata": {},
   "outputs": [
    {
     "data": {
      "text/plain": [
       "array([183, 192, 109, 149])"
      ]
     },
     "execution_count": 14,
     "metadata": {},
     "output_type": "execute_result"
    }
   ],
   "source": [
    "# gives the numpy array of the values\n",
    "vk_runs_series.values"
   ]
  },
  {
   "cell_type": "code",
   "execution_count": 15,
   "id": "7655a83e-1e76-48ee-a92c-63de33cc7917",
   "metadata": {},
   "outputs": [
    {
     "data": {
      "text/plain": [
       "True"
      ]
     },
     "execution_count": 15,
     "metadata": {},
     "output_type": "execute_result"
    }
   ],
   "source": [
    "# gives the boolean values \n",
    "vk_runs_series.is_unique"
   ]
  },
  {
   "cell_type": "code",
   "execution_count": 18,
   "id": "87bcae16-2a3a-4fe4-8795-9ab6190a1c0c",
   "metadata": {},
   "outputs": [
    {
     "data": {
      "text/plain": [
       "'Virat Kohali most runs'"
      ]
     },
     "execution_count": 18,
     "metadata": {},
     "output_type": "execute_result"
    }
   ],
   "source": [
    "# boject name\n",
    "vk_runs_series.name"
   ]
  },
  {
   "cell_type": "code",
   "execution_count": 24,
   "id": "b578eae3-4862-44c8-9427-83ca23d04855",
   "metadata": {},
   "outputs": [
    {
     "data": {
      "text/plain": [
       "4"
      ]
     },
     "execution_count": 24,
     "metadata": {},
     "output_type": "execute_result"
    }
   ],
   "source": [
    "# size of the series\n",
    "vk_runs_series.size"
   ]
  },
  {
   "cell_type": "code",
   "execution_count": 32,
   "id": "6b966a16-a5a7-4853-a01b-6e1437002d3f",
   "metadata": {},
   "outputs": [],
   "source": [
    "# methods\n",
    "# head / tail / sample / value_count / sort_value / sort_index"
   ]
  },
  {
   "cell_type": "code",
   "execution_count": 33,
   "id": "85507a52-b5a2-4a2a-b033-b96267cbd865",
   "metadata": {},
   "outputs": [
    {
     "data": {
      "text/plain": [
       "AUS    183\n",
       "PAK    192\n",
       "Name: Virat Kohali most runs, dtype: int64"
      ]
     },
     "execution_count": 33,
     "metadata": {},
     "output_type": "execute_result"
    }
   ],
   "source": [
    "# head\n",
    "vk_runs_series.head(2)"
   ]
  },
  {
   "cell_type": "code",
   "execution_count": 34,
   "id": "2ba8b230-8850-4cd6-b859-ce65bc38dcb8",
   "metadata": {},
   "outputs": [
    {
     "data": {
      "text/plain": [
       "BAN    109\n",
       "SA     149\n",
       "Name: Virat Kohali most runs, dtype: int64"
      ]
     },
     "execution_count": 34,
     "metadata": {},
     "output_type": "execute_result"
    }
   ],
   "source": [
    "# tail\n",
    "vk_runs_series.tail(2)"
   ]
  },
  {
   "cell_type": "code",
   "execution_count": 37,
   "id": "40004128-04ac-4025-89d8-bf8115d04f62",
   "metadata": {},
   "outputs": [
    {
     "data": {
      "text/plain": [
       "Virat Kohali most runs\n",
       "183    1\n",
       "192    1\n",
       "109    1\n",
       "149    1\n",
       "Name: count, dtype: int64"
      ]
     },
     "execution_count": 37,
     "metadata": {},
     "output_type": "execute_result"
    }
   ],
   "source": [
    "# value_count\n",
    "vk_runs_series.value_counts()"
   ]
  },
  {
   "cell_type": "code",
   "execution_count": 41,
   "id": "31771d41-b813-4b5a-ab9f-b413a41df9ea",
   "metadata": {},
   "outputs": [
    {
     "data": {
      "text/plain": [
       "PAK    192\n",
       "AUS    183\n",
       "SA     149\n",
       "BAN    109\n",
       "Name: Virat Kohali most runs, dtype: int64"
      ]
     },
     "execution_count": 41,
     "metadata": {},
     "output_type": "execute_result"
    }
   ],
   "source": [
    "vk_runs_series.sort_values(ascending = False)"
   ]
  },
  {
   "cell_type": "code",
   "execution_count": 43,
   "id": "37a59f97-aea2-4b3e-b81c-063d2d80cd7e",
   "metadata": {},
   "outputs": [
    {
     "data": {
      "text/plain": [
       "SA     149\n",
       "PAK    192\n",
       "BAN    109\n",
       "AUS    183\n",
       "Name: Virat Kohali most runs, dtype: int64"
      ]
     },
     "execution_count": 43,
     "metadata": {},
     "output_type": "execute_result"
    }
   ],
   "source": [
    "vk_runs_series.sort_index(ascending = False)"
   ]
  },
  {
   "cell_type": "code",
   "execution_count": 47,
   "id": "f2253dd8-af26-424c-8c40-5e4e12025ca8",
   "metadata": {},
   "outputs": [],
   "source": [
    "# some another methods\n",
    "\n",
    "\n",
    "# count / sum / mean / median / std / mode / var / min / max / describ"
   ]
  },
  {
   "cell_type": "code",
   "execution_count": null,
   "id": "3e9635e1-86e0-4861-88b7-f53e20780c5a",
   "metadata": {},
   "outputs": [],
   "source": []
  },
  {
   "cell_type": "code",
   "execution_count": null,
   "id": "2b2f5dec-ee2d-4fe9-98ad-31e1086f4bbc",
   "metadata": {},
   "outputs": [],
   "source": []
  },
  {
   "cell_type": "code",
   "execution_count": 48,
   "id": "ad93e605-fd37-4106-bab4-e37bc5ac9a9f",
   "metadata": {},
   "outputs": [],
   "source": [
    "# Read the IPL data:\n",
    "\n",
    "# Load the data into a pandas DataFrame.\n",
    "# Display the first few rows to understand the structure of the data."
   ]
  },
  {
   "cell_type": "code",
   "execution_count": 123,
   "id": "b3606bc8-9322-4abb-83a7-cff330193ade",
   "metadata": {},
   "outputs": [
    {
     "data": {
      "text/html": [
       "<div>\n",
       "<style scoped>\n",
       "    .dataframe tbody tr th:only-of-type {\n",
       "        vertical-align: middle;\n",
       "    }\n",
       "\n",
       "    .dataframe tbody tr th {\n",
       "        vertical-align: top;\n",
       "    }\n",
       "\n",
       "    .dataframe thead th {\n",
       "        text-align: right;\n",
       "    }\n",
       "</style>\n",
       "<table border=\"1\" class=\"dataframe\">\n",
       "  <thead>\n",
       "    <tr style=\"text-align: right;\">\n",
       "      <th></th>\n",
       "      <th>runs</th>\n",
       "    </tr>\n",
       "    <tr>\n",
       "      <th>match_no</th>\n",
       "      <th></th>\n",
       "    </tr>\n",
       "  </thead>\n",
       "  <tbody>\n",
       "    <tr>\n",
       "      <th>1</th>\n",
       "      <td>1</td>\n",
       "    </tr>\n",
       "    <tr>\n",
       "      <th>2</th>\n",
       "      <td>23</td>\n",
       "    </tr>\n",
       "    <tr>\n",
       "      <th>3</th>\n",
       "      <td>13</td>\n",
       "    </tr>\n",
       "    <tr>\n",
       "      <th>4</th>\n",
       "      <td>12</td>\n",
       "    </tr>\n",
       "    <tr>\n",
       "      <th>5</th>\n",
       "      <td>1</td>\n",
       "    </tr>\n",
       "    <tr>\n",
       "      <th>...</th>\n",
       "      <td>...</td>\n",
       "    </tr>\n",
       "    <tr>\n",
       "      <th>211</th>\n",
       "      <td>0</td>\n",
       "    </tr>\n",
       "    <tr>\n",
       "      <th>212</th>\n",
       "      <td>20</td>\n",
       "    </tr>\n",
       "    <tr>\n",
       "      <th>213</th>\n",
       "      <td>73</td>\n",
       "    </tr>\n",
       "    <tr>\n",
       "      <th>214</th>\n",
       "      <td>25</td>\n",
       "    </tr>\n",
       "    <tr>\n",
       "      <th>215</th>\n",
       "      <td>7</td>\n",
       "    </tr>\n",
       "  </tbody>\n",
       "</table>\n",
       "<p>215 rows × 1 columns</p>\n",
       "</div>"
      ],
      "text/plain": [
       "          runs\n",
       "match_no      \n",
       "1            1\n",
       "2           23\n",
       "3           13\n",
       "4           12\n",
       "5            1\n",
       "...        ...\n",
       "211          0\n",
       "212         20\n",
       "213         73\n",
       "214         25\n",
       "215          7\n",
       "\n",
       "[215 rows x 1 columns]"
      ]
     },
     "execution_count": 123,
     "metadata": {},
     "output_type": "execute_result"
    }
   ],
   "source": [
    "vk = pd.read_csv('kohli_ipl.csv', index_col = 'match_no')\n",
    "vk"
   ]
  },
  {
   "cell_type": "code",
   "execution_count": 124,
   "id": "bb8a4621-3b71-4d68-b1a0-64a5a4ef9a61",
   "metadata": {},
   "outputs": [
    {
     "name": "stdout",
     "output_type": "stream",
     "text": [
      "Total runs scored by Virat Kohli: 6634\n"
     ]
    }
   ],
   "source": [
    "total_runs = vk['runs'].sum()\n",
    "\n",
    "print(\"Total runs scored by Virat Kohli:\", total_runs)"
   ]
  },
  {
   "cell_type": "code",
   "execution_count": 125,
   "id": "18100993-c7db-4848-bc72-510322a98755",
   "metadata": {},
   "outputs": [
    {
     "data": {
      "text/plain": [
       "pandas.core.frame.DataFrame"
      ]
     },
     "execution_count": 125,
     "metadata": {},
     "output_type": "execute_result"
    }
   ],
   "source": [
    "type(vk)"
   ]
  },
  {
   "cell_type": "code",
   "execution_count": 63,
   "id": "73e2f11a-a99e-4e28-ab11-f1fcbb8df4c1",
   "metadata": {},
   "outputs": [
    {
     "name": "stdout",
     "output_type": "stream",
     "text": [
      "Total number of match played by Virat Kohali is 215\n"
     ]
    }
   ],
   "source": [
    "# Calculate the total number of matches played.\n",
    "print(\"Total number of match played by Virat Kohali is\", vk.size)"
   ]
  },
  {
   "cell_type": "code",
   "execution_count": 135,
   "id": "ea3c8955-8410-4389-ba3a-c03457e6712d",
   "metadata": {},
   "outputs": [
    {
     "name": "stdout",
     "output_type": "stream",
     "text": [
      "6634\n"
     ]
    }
   ],
   "source": [
    "# Calculate the total runs scored.\n",
    "total_runs = vk['runs'].sum()\n",
    "print(total_runs)\n",
    "\n",
    "    "
   ]
  },
  {
   "cell_type": "code",
   "execution_count": 143,
   "id": "acd72ef7-499f-453d-8c4c-b892d38536f5",
   "metadata": {},
   "outputs": [
    {
     "data": {
      "text/html": [
       "<div>\n",
       "<style scoped>\n",
       "    .dataframe tbody tr th:only-of-type {\n",
       "        vertical-align: middle;\n",
       "    }\n",
       "\n",
       "    .dataframe tbody tr th {\n",
       "        vertical-align: top;\n",
       "    }\n",
       "\n",
       "    .dataframe thead th {\n",
       "        text-align: right;\n",
       "    }\n",
       "</style>\n",
       "<table border=\"1\" class=\"dataframe\">\n",
       "  <thead>\n",
       "    <tr style=\"text-align: right;\">\n",
       "      <th></th>\n",
       "      <th>runs</th>\n",
       "    </tr>\n",
       "    <tr>\n",
       "      <th>match_no</th>\n",
       "      <th></th>\n",
       "    </tr>\n",
       "  </thead>\n",
       "  <tbody>\n",
       "    <tr>\n",
       "      <th>128</th>\n",
       "      <td>113</td>\n",
       "    </tr>\n",
       "  </tbody>\n",
       "</table>\n",
       "</div>"
      ],
      "text/plain": [
       "          runs\n",
       "match_no      \n",
       "128        113"
      ]
     },
     "execution_count": 143,
     "metadata": {},
     "output_type": "execute_result"
    }
   ],
   "source": [
    "# Find the match in which Virat Kohli scored the maximum runs.\n",
    "vk.sort_values('runs', ascending = False).head(1)"
   ]
  },
  {
   "cell_type": "code",
   "execution_count": 144,
   "id": "634ae297-c739-4d35-a28f-46c4b87c5763",
   "metadata": {},
   "outputs": [
    {
     "name": "stdout",
     "output_type": "stream",
     "text": [
      "runs    30.855814\n",
      "dtype: float64\n"
     ]
    }
   ],
   "source": [
    "# Calculate the average runs scored per match.\n",
    "total_runs = vk['runs'].sum()\n",
    "total_matches = vk.count()\n",
    "avg = total_runs / total_matches\n",
    "print(avg)"
   ]
  },
  {
   "cell_type": "code",
   "execution_count": 164,
   "id": "2af0bd44-624e-44ab-9568-7b71fd8724c2",
   "metadata": {},
   "outputs": [
    {
     "data": {
      "text/plain": [
       "48"
      ]
     },
     "execution_count": 164,
     "metadata": {},
     "output_type": "execute_result"
    }
   ],
   "source": [
    "# find how many matches he scored more than 50 runs.\n",
    "runs = vk['runs']\n",
    "score = runs[runs > 50]\n",
    "score.size"
   ]
  },
  {
   "cell_type": "code",
   "execution_count": 200,
   "id": "a36e00b8-921d-471f-a43c-ae3e38d79cdb",
   "metadata": {},
   "outputs": [
    {
     "data": {
      "image/png": "[encoded data removed]",
      "text/plain": [
       "<Figure size 640x480 with 1 Axes>"
      ]
     },
     "metadata": {},
     "output_type": "display_data"
    }
   ],
   "source": [
    "# Plot a graph of runs scored in each match.\n",
    "x = vk.index\n",
    "y = vk.values\n",
    "plt.plot(x, y)\n",
    "plt.show()\n"
   ]
  },
  {
   "cell_type": "code",
   "execution_count": 205,
   "id": "99ead329-9c1b-4677-918f-21d8cdedb9f8",
   "metadata": {},
   "outputs": [
    {
     "data": {
      "text/plain": [
       "(215, 1)"
      ]
     },
     "execution_count": 205,
     "metadata": {},
     "output_type": "execute_result"
    }
   ],
   "source": [
    "vk.shape[0]\n",
    "\n",
    "\n",
    "\n",
    "# yes"
   ]
  },
  {
   "cell_type": "code",
   "execution_count": 239,
   "id": "1f23e0de-19be-495e-bfc4-3a4adcefbcdd",
   "metadata": {},
   "outputs": [
    {
     "data": {
      "text/plain": [
       "pandas.core.frame.DataFrame"
      ]
     },
     "execution_count": 239,
     "metadata": {},
     "output_type": "execute_result"
    }
   ],
   "source": [
    "# Filter matches where runs scored are greater than the average runs.\n",
    "total_matches = vk.shape[0]\n",
    "total_runs = vk['runs'].sum()\n",
    "\n",
    "avg = total_runs / total_matches\n",
    "temp = vk[vk > avg]\n",
    "type(temp)"
   ]
  },
  {
   "cell_type": "code",
   "execution_count": null,
   "id": "41bffedf-270d-459c-bf88-2aa4157d5266",
   "metadata": {},
   "outputs": [],
   "source": [
    "# Filter matches where runs scored are greater than the average runs."
   ]
  }
 ],
 "metadata": {
  "kernelspec": {
   "display_name": "Python 3 (ipykernel)",
   "language": "python",
   "name": "python3"
  },
  "language_info": {
   "codemirror_mode": {
    "name": "ipython",
    "version": 3
   },
   "file_extension": ".py",
   "mimetype": "text/x-python",
   "name": "python",
   "nbconvert_exporter": "python",
   "pygments_lexer": "ipython3",
   "version": "3.8.10"
  }
 },
 "nbformat": 4,
 "nbformat_minor": 5
}
