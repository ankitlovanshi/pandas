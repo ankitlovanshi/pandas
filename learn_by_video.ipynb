{
 "cells": [
  {
   "cell_type": "code",
   "execution_count": 6,
   "id": "2ccba8df-c6f0-4879-99ca-9b66dbe85abb",
   "metadata": {},
   "outputs": [],
   "source": [
    "import numpy as np\n",
    "import pandas as pd"
   ]
  },
  {
   "cell_type": "code",
   "execution_count": 8,
   "id": "d71deba2-b36b-4960-b79d-b40d73a277ca",
   "metadata": {},
   "outputs": [],
   "source": [
    "# Series from list"
   ]
  },
  {
   "cell_type": "code",
   "execution_count": 9,
   "id": "6cff62c5-083f-4f3a-901e-5ec56277de40",
   "metadata": {},
   "outputs": [
    {
     "data": {
      "text/plain": [
       "0       IND\n",
       "1       PAK\n",
       "2       USA\n",
       "3       BAN\n",
       "4    CHAINA\n",
       "dtype: object"
      ]
     },
     "execution_count": 9,
     "metadata": {},
     "output_type": "execute_result"
    }
   ],
   "source": [
    "# string\n",
    "countries = ['IND', 'PAK', 'USA', 'BAN', 'CHAINA']\n",
    "\n",
    "pd.Series(countries)"
   ]
  },
  {
   "cell_type": "code",
   "execution_count": 68,
   "id": "a0b3f7b2-124f-4040-b86d-2b8c74fb0b16",
   "metadata": {},
   "outputs": [],
   "source": [
    "# integer\n",
    "numbers = [23, 87, 17, 96, 100, 109]"
   ]
  },
  {
   "cell_type": "code",
   "execution_count": 5,
   "id": "cc1b5a65-7017-4761-a3c9-9fea6ea2db90",
   "metadata": {},
   "outputs": [
    {
     "data": {
      "text/plain": [
       "Phy      78\n",
       "Chem     89\n",
       "Maths    67\n",
       "Eng      90\n",
       "dtype: int64"
      ]
     },
     "execution_count": 5,
     "metadata": {},
     "output_type": "execute_result"
    }
   ],
   "source": [
    "# custom index\n",
    "marks = [78, 89, 67, 90]\n",
    "subjects = [\"Phy\", \"Chem\", \"Maths\", \"Eng\"]\n",
    "pd.Series(marks, index = subjects)"
   ]
  },
  {
   "cell_type": "code",
   "execution_count": 6,
   "id": "a8cd2810-ba83-45f9-9e8a-b3396f4efcb0",
   "metadata": {},
   "outputs": [
    {
     "data": {
      "text/plain": [
       "Phy      78\n",
       "Chem     89\n",
       "Maths    67\n",
       "Eng      90\n",
       "Name: Marks's of Ankit, dtype: int64"
      ]
     },
     "execution_count": 6,
     "metadata": {},
     "output_type": "execute_result"
    }
   ],
   "source": [
    "pd.Series(marks, index = subjects, name = \"Marks's of Ankit\")"
   ]
  },
  {
   "cell_type": "code",
   "execution_count": 7,
   "id": "7b561c03-281e-4f59-8a75-2a6ffda19ff0",
   "metadata": {},
   "outputs": [
    {
     "name": "stdout",
     "output_type": "stream",
     "text": [
      "pyh      78\n",
      "chem     89\n",
      "Maths    67\n",
      "Eng      90\n",
      "Name: Marks's Ankit, dtype: int64\n"
     ]
    }
   ],
   "source": [
    "marks = {\n",
    "    \"pyh\" : 78,\n",
    "    \"chem\" : 89,\n",
    "    \"Maths\" : 67,\n",
    "    \"Eng\" : 90\n",
    "}\n",
    "\n",
    "marks_series = pd.Series(marks, name = \"Marks's Ankit\")\n",
    "print(marks_series)"
   ]
  },
  {
   "cell_type": "code",
   "execution_count": 8,
   "id": "bc2597f9-1697-4c23-89c6-07036e90465d",
   "metadata": {},
   "outputs": [],
   "source": [
    "# Attribute"
   ]
  },
  {
   "cell_type": "code",
   "execution_count": 9,
   "id": "d158cab9-34f4-4a10-a417-a1d7c463c2d5",
   "metadata": {},
   "outputs": [
    {
     "data": {
      "text/plain": [
       "4"
      ]
     },
     "execution_count": 9,
     "metadata": {},
     "output_type": "execute_result"
    }
   ],
   "source": [
    "# size\n",
    "marks_series.size"
   ]
  },
  {
   "cell_type": "code",
   "execution_count": 10,
   "id": "1f358e9b-41c7-4e7d-a600-d91c005e75db",
   "metadata": {},
   "outputs": [
    {
     "data": {
      "text/plain": [
       "dtype('int64')"
      ]
     },
     "execution_count": 10,
     "metadata": {},
     "output_type": "execute_result"
    }
   ],
   "source": [
    "marks_series.dtype"
   ]
  },
  {
   "cell_type": "code",
   "execution_count": 11,
   "id": "ce252170-8014-4f62-8051-6f7576905adc",
   "metadata": {},
   "outputs": [
    {
     "data": {
      "text/plain": [
       "\"Marks's Ankit\""
      ]
     },
     "execution_count": 11,
     "metadata": {},
     "output_type": "execute_result"
    }
   ],
   "source": [
    "marks_series.name"
   ]
  },
  {
   "cell_type": "code",
   "execution_count": 12,
   "id": "b27d1971-191d-45c8-bf73-99c98b1e8060",
   "metadata": {},
   "outputs": [
    {
     "data": {
      "text/plain": [
       "Index(['pyh', 'chem', 'Maths', 'Eng'], dtype='object')"
      ]
     },
     "execution_count": 12,
     "metadata": {},
     "output_type": "execute_result"
    }
   ],
   "source": [
    "marks_series.index"
   ]
  },
  {
   "cell_type": "code",
   "execution_count": 13,
   "id": "0a56cb68-26f4-45ec-a307-c1e5575e40cb",
   "metadata": {},
   "outputs": [
    {
     "data": {
      "text/plain": [
       "array([78, 89, 67, 90])"
      ]
     },
     "execution_count": 13,
     "metadata": {},
     "output_type": "execute_result"
    }
   ],
   "source": [
    "marks_series.values"
   ]
  },
  {
   "cell_type": "code",
   "execution_count": 14,
   "id": "b3bca000-a556-485d-90ce-0134dfb50343",
   "metadata": {},
   "outputs": [
    {
     "data": {
      "text/plain": [
       "dtype('int64')"
      ]
     },
     "execution_count": 14,
     "metadata": {},
     "output_type": "execute_result"
    }
   ],
   "source": [
    "marks_series.dtype"
   ]
  },
  {
   "cell_type": "code",
   "execution_count": 15,
   "id": "50d52a78-dc45-4b69-a6bc-e7adbe4f9ff6",
   "metadata": {},
   "outputs": [
    {
     "data": {
      "text/plain": [
       "True"
      ]
     },
     "execution_count": 15,
     "metadata": {},
     "output_type": "execute_result"
    }
   ],
   "source": [
    "marks_series.is_unique"
   ]
  },
  {
   "cell_type": "code",
   "execution_count": 16,
   "id": "67652edf-58a6-4031-a304-d49205b7adc1",
   "metadata": {},
   "outputs": [],
   "source": [
    "# Series using read_csv"
   ]
  },
  {
   "cell_type": "code",
   "execution_count": 143,
   "id": "bfa77a19-da12-4988-8285-f569426711fd",
   "metadata": {},
   "outputs": [
    {
     "data": {
      "text/plain": [
       "0       48\n",
       "1       57\n",
       "2       40\n",
       "3       43\n",
       "4       44\n",
       "      ... \n",
       "360    231\n",
       "361    226\n",
       "362    155\n",
       "363    144\n",
       "364    172\n",
       "Name: Subscribers gained, Length: 365, dtype: int64"
      ]
     },
     "execution_count": 143,
     "metadata": {},
     "output_type": "execute_result"
    }
   ],
   "source": [
    "# with one col\n",
    "subs = pd.read_excel('subs.xlsx')\n",
    "subs = subs.squeeze()\n",
    "subs"
   ]
  },
  {
   "cell_type": "code",
   "execution_count": 131,
   "id": "56b6a7b0-bf9a-4d40-9e17-b75b450323c7",
   "metadata": {},
   "outputs": [
    {
     "data": {
      "text/plain": [
       "match_no\n",
       "1       1\n",
       "2      23\n",
       "3      13\n",
       "4      12\n",
       "5       1\n",
       "       ..\n",
       "211     0\n",
       "212    20\n",
       "213    73\n",
       "214    25\n",
       "215     7\n",
       "Name: runs, Length: 215, dtype: int64"
      ]
     },
     "execution_count": 131,
     "metadata": {},
     "output_type": "execute_result"
    }
   ],
   "source": [
    "# with 2 col\n",
    "a = pd.read_csv('kohli_ipl.csv', index_col = \"match_no\")\n",
    "vk = pd.Series(a['runs'])\n",
    "vk"
   ]
  },
  {
   "cell_type": "code",
   "execution_count": 33,
   "id": "b6e3cdf2-d586-459e-bc87-079edcd060ad",
   "metadata": {},
   "outputs": [
    {
     "data": {
      "text/plain": [
       "movie\n",
       "Uri: The Surgical Strike                   Vicky Kaushal\n",
       "Battalion 609                                Vicky Ahuja\n",
       "The Accidental Prime Minister (film)         Anupam Kher\n",
       "Why Cheat India                            Emraan Hashmi\n",
       "Evening Shadows                         Mona Ambegaonkar\n",
       "                                              ...       \n",
       "Hum Tumhare Hain Sanam                    Shah Rukh Khan\n",
       "Aankhen (2002 film)                     Amitabh Bachchan\n",
       "Saathiya (film)                             Vivek Oberoi\n",
       "Company (film)                                Ajay Devgn\n",
       "Awara Paagal Deewana                        Akshay Kumar\n",
       "Name: lead, Length: 1500, dtype: object"
      ]
     },
     "execution_count": 33,
     "metadata": {},
     "output_type": "execute_result"
    }
   ],
   "source": [
    "movies = pd.read_csv('bollywood.csv', index_col = 'movie')\n",
    "movies_series = movies['lead']\n",
    "movies_series"
   ]
  },
  {
   "cell_type": "code",
   "execution_count": 20,
   "id": "199e2204-dab7-4742-a203-0e153571836d",
   "metadata": {},
   "outputs": [],
   "source": [
    "# Series methods\n",
    "\n",
    "\n",
    "\n",
    "# head, tails / sample / value_count / sort_value / sort_index"
   ]
  },
  {
   "cell_type": "code",
   "execution_count": 21,
   "id": "b45b299c-309a-44a8-9b71-e6fde27220ce",
   "metadata": {},
   "outputs": [
    {
     "data": {
      "text/plain": [
       "movie\n",
       "Uri: The Surgical Strike                   Vicky Kaushal\n",
       "Battalion 609                                Vicky Ahuja\n",
       "The Accidental Prime Minister (film)         Anupam Kher\n",
       "Why Cheat India                            Emraan Hashmi\n",
       "Evening Shadows                         Mona Ambegaonkar\n",
       "Name: lead, dtype: object"
      ]
     },
     "execution_count": 21,
     "metadata": {},
     "output_type": "execute_result"
    }
   ],
   "source": [
    "# head -->(it give top 5 rows by defult but we can pass the value for the accessing the rows according to us)\n",
    "\n",
    "movies_series.head()"
   ]
  },
  {
   "cell_type": "code",
   "execution_count": 22,
   "id": "7cff3215-a2fe-465f-9826-dc23fd54199c",
   "metadata": {},
   "outputs": [
    {
     "data": {
      "text/plain": [
       "movie\n",
       "Hum Tumhare Hain Sanam      Shah Rukh Khan\n",
       "Aankhen (2002 film)       Amitabh Bachchan\n",
       "Saathiya (film)               Vivek Oberoi\n",
       "Company (film)                  Ajay Devgn\n",
       "Awara Paagal Deewana          Akshay Kumar\n",
       "Name: lead, dtype: object"
      ]
     },
     "execution_count": 22,
     "metadata": {},
     "output_type": "execute_result"
    }
   ],
   "source": [
    "# head -->(it give below 5 rows by defult but we can pass the value for the accessing the rows according to us)\n",
    "\n",
    "movies_series.tail()"
   ]
  },
  {
   "cell_type": "code",
   "execution_count": 23,
   "id": "8d0ba74e-acc1-4eb1-9723-0af818b3479c",
   "metadata": {},
   "outputs": [
    {
     "data": {
      "text/plain": [
       "movie\n",
       "Bheja Fry 2                      Vinay Pathak\n",
       "Apna Sapna Money Money          Bobby Darling\n",
       "Jurm (2005 film)                   Kamal Adib\n",
       "Jolly LLB                        Arshad Warsi\n",
       "Haraamkhor                Nawazuddin Siddiqui\n",
       "Name: lead, dtype: object"
      ]
     },
     "execution_count": 23,
     "metadata": {},
     "output_type": "execute_result"
    }
   ],
   "source": [
    "# sample ---> (gives the 1 random rows)\n",
    "movies_series.sample(5)"
   ]
  },
  {
   "cell_type": "code",
   "execution_count": 34,
   "id": "02d8556d-867e-446b-a47a-5738e4ad2f06",
   "metadata": {},
   "outputs": [
    {
     "data": {
      "text/plain": [
       "lead\n",
       "Akshay Kumar        48\n",
       "Amitabh Bachchan    45\n",
       "Ajay Devgn          38\n",
       "Salman Khan         31\n",
       "Sanjay Dutt         26\n",
       "                    ..\n",
       "Diganth              1\n",
       "Parveen Kaur         1\n",
       "Seema Azmi           1\n",
       "Akanksha Puri        1\n",
       "Edwin Fernandes      1\n",
       "Name: count, Length: 566, dtype: int64"
      ]
     },
     "execution_count": 34,
     "metadata": {},
     "output_type": "execute_result"
    }
   ],
   "source": [
    "# value_count ---> (it gives the all the data that are matched with the index and count all the record)\n",
    "movies_series.value_counts()"
   ]
  },
  {
   "cell_type": "code",
   "execution_count": 25,
   "id": "06d4df83-5ff1-4c8d-9598-81a0aba61060",
   "metadata": {},
   "outputs": [],
   "source": [
    "# practice\n",
    "\n",
    "\n",
    "# questions\n",
    "#  Which actor done the maximum movies from 2002 to 2022"
   ]
  },
  {
   "cell_type": "code",
   "execution_count": 26,
   "id": "3457752c-60ef-46d3-a874-1f523136b749",
   "metadata": {},
   "outputs": [
    {
     "data": {
      "text/plain": [
       "lead\n",
       "Akshay Kumar    48\n",
       "Name: count, dtype: int64"
      ]
     },
     "execution_count": 26,
     "metadata": {},
     "output_type": "execute_result"
    }
   ],
   "source": [
    "movies_series.value_counts().head(1)"
   ]
  },
  {
   "cell_type": "code",
   "execution_count": 27,
   "id": "83b11371-2bbb-41d6-bebc-0c28054f232e",
   "metadata": {},
   "outputs": [
    {
     "data": {
      "text/plain": [
       "match_no\n",
       "128    113\n",
       "126    109\n",
       "123    108\n",
       "164    100\n",
       "120    100\n",
       "      ... \n",
       "93       0\n",
       "211      0\n",
       "130      0\n",
       "8        0\n",
       "135      0\n",
       "Name: runs, Length: 215, dtype: int64"
      ]
     },
     "execution_count": 27,
     "metadata": {},
     "output_type": "execute_result"
    }
   ],
   "source": [
    "# sort_values ---> it short the record based on the values\n",
    "vk.sort_values(ascending = False)"
   ]
  },
  {
   "cell_type": "code",
   "execution_count": 28,
   "id": "290e43a2-2236-42e4-99b8-138981e24284",
   "metadata": {},
   "outputs": [
    {
     "data": {
      "text/plain": [
       "movie\n",
       "1920 (film)                   Rajniesh Duggall\n",
       "1920: London                     Sharman Joshi\n",
       "1920: The Evil Returns             Vicky Ahuja\n",
       "1971 (2007 film)                Manoj Bajpayee\n",
       "2 States (2014 film)              Arjun Kapoor\n",
       "                                   ...        \n",
       "Zindagi 50-50                      Veena Malik\n",
       "Zindagi Na Milegi Dobara        Hrithik Roshan\n",
       "Zindagi Tere Naam           Mithun Chakraborty\n",
       "Zokkomon                       Darsheel Safary\n",
       "Zor Lagaa Ke...Haiya!            Meghan Jadhav\n",
       "Name: lead, Length: 1500, dtype: object"
      ]
     },
     "execution_count": 28,
     "metadata": {},
     "output_type": "execute_result"
    }
   ],
   "source": [
    "movies_series.sort_index(ascending = True)"
   ]
  },
  {
   "cell_type": "code",
   "execution_count": 30,
   "id": "b4113995-4d6a-4094-b292-3e0686335b94",
   "metadata": {},
   "outputs": [],
   "source": [
    "# series maths method"
   ]
  },
  {
   "cell_type": "code",
   "execution_count": 33,
   "id": "46bed61c-98c6-4390-9ba5-576b959b96e6",
   "metadata": {},
   "outputs": [
    {
     "data": {
      "text/plain": [
       "215"
      ]
     },
     "execution_count": 33,
     "metadata": {},
     "output_type": "execute_result"
    }
   ],
   "source": [
    "# count ---> gives the number of rows withount missing values\n",
    "vk.count()"
   ]
  },
  {
   "cell_type": "code",
   "execution_count": 36,
   "id": "e088374d-26ae-45b3-8f55-00319993a5db",
   "metadata": {},
   "outputs": [
    {
     "data": {
      "text/plain": [
       "113"
      ]
     },
     "execution_count": 36,
     "metadata": {},
     "output_type": "execute_result"
    }
   ],
   "source": [
    "# max / min\n",
    "vk.max()"
   ]
  },
  {
   "cell_type": "code",
   "execution_count": 41,
   "id": "a47c9a43-52af-4960-b0e0-d67fb92faeff",
   "metadata": {},
   "outputs": [],
   "source": [
    "# mean / median / mode / std / var\n"
   ]
  },
  {
   "cell_type": "code",
   "execution_count": 42,
   "id": "85b33dfa-0be4-44d2-ab48-ee38217918a4",
   "metadata": {},
   "outputs": [
    {
     "data": {
      "text/plain": [
       "30.855813953488372"
      ]
     },
     "execution_count": 42,
     "metadata": {},
     "output_type": "execute_result"
    }
   ],
   "source": [
    "# mean\n",
    "vk.mean()"
   ]
  },
  {
   "cell_type": "code",
   "execution_count": 43,
   "id": "34bc68af-103a-4cc8-89f2-6bb910a09d30",
   "metadata": {},
   "outputs": [
    {
     "data": {
      "text/plain": [
       "24.0"
      ]
     },
     "execution_count": 43,
     "metadata": {},
     "output_type": "execute_result"
    }
   ],
   "source": [
    "# median\n",
    "vk.median()"
   ]
  },
  {
   "cell_type": "code",
   "execution_count": 48,
   "id": "5404cdb0-2637-42a3-8610-7b0285bf6c8d",
   "metadata": {},
   "outputs": [
    {
     "data": {
      "text/plain": [
       "0    Akshay Kumar\n",
       "Name: lead, dtype: object"
      ]
     },
     "execution_count": 48,
     "metadata": {},
     "output_type": "execute_result"
    }
   ],
   "source": [
    "# mode ---> it is giving all maximun movies by made akshay kumar\n",
    "movies_series.mode()"
   ]
  },
  {
   "cell_type": "code",
   "execution_count": 49,
   "id": "742a832f-678a-44aa-beb2-2749bf1819d8",
   "metadata": {},
   "outputs": [
    {
     "data": {
      "text/plain": [
       "count    215.000000\n",
       "mean      30.855814\n",
       "std       26.229801\n",
       "min        0.000000\n",
       "25%        9.000000\n",
       "50%       24.000000\n",
       "75%       48.000000\n",
       "max      113.000000\n",
       "Name: runs, dtype: float64"
      ]
     },
     "execution_count": 49,
     "metadata": {},
     "output_type": "execute_result"
    }
   ],
   "source": [
    "vk.describe()"
   ]
  },
  {
   "cell_type": "code",
   "execution_count": 1,
   "id": "60a893d7-7fdb-467d-a6e4-ddbf429e1bf6",
   "metadata": {},
   "outputs": [],
   "source": [
    "# Series indexing\n",
    "\n",
    "\n",
    "\n",
    "\n",
    "\n",
    "\n",
    "# "
   ]
  },
  {
   "cell_type": "code",
   "execution_count": 10,
   "id": "40e8f087-d56d-401b-b876-57695cd8a5d1",
   "metadata": {},
   "outputs": [
    {
     "data": {
      "text/plain": [
       "'IND'"
      ]
     },
     "execution_count": 10,
     "metadata": {},
     "output_type": "execute_result"
    }
   ],
   "source": [
    "# integer indexing\n",
    "countries[0]"
   ]
  },
  {
   "cell_type": "code",
   "execution_count": 22,
   "id": "6bd05cd4-1a41-4b33-988c-964afe94faf1",
   "metadata": {},
   "outputs": [
    {
     "data": {
      "text/plain": [
       "12"
      ]
     },
     "execution_count": 22,
     "metadata": {},
     "output_type": "execute_result"
    }
   ],
   "source": [
    "vk[4]"
   ]
  },
  {
   "cell_type": "code",
   "execution_count": 26,
   "id": "01e91802-6123-4208-81b4-3ebc86cfe529",
   "metadata": {},
   "outputs": [
    {
     "data": {
      "text/plain": [
       "'CHAINA'"
      ]
     },
     "execution_count": 26,
     "metadata": {},
     "output_type": "execute_result"
    }
   ],
   "source": [
    "# nagative indexing (in the custom indexing  it does not wrok)\n",
    "countries[-1]"
   ]
  },
  {
   "cell_type": "code",
   "execution_count": 27,
   "id": "fb4d507d-4b46-45dd-b334-23262094652a",
   "metadata": {},
   "outputs": [],
   "source": [
    "# scling"
   ]
  },
  {
   "cell_type": "code",
   "execution_count": 28,
   "id": "4bdd3980-5e2b-4299-8b88-62a70a1a6d10",
   "metadata": {},
   "outputs": [
    {
     "data": {
      "text/plain": [
       "match_no\n",
       "1     1\n",
       "2    23\n",
       "3    13\n",
       "4    12\n",
       "5     1\n",
       "Name: runs, dtype: int64"
      ]
     },
     "execution_count": 28,
     "metadata": {},
     "output_type": "execute_result"
    }
   ],
   "source": [
    "vk[0:5]"
   ]
  },
  {
   "cell_type": "code",
   "execution_count": 29,
   "id": "619de91b-2289-4211-9303-d4a8edd49810",
   "metadata": {},
   "outputs": [
    {
     "data": {
      "text/plain": [
       "match_no\n",
       "1     1\n",
       "3    13\n",
       "5     1\n",
       "Name: runs, dtype: int64"
      ]
     },
     "execution_count": 29,
     "metadata": {},
     "output_type": "execute_result"
    }
   ],
   "source": [
    "# fancy indexing\n",
    "vk[[1, 3, 5]]"
   ]
  },
  {
   "cell_type": "code",
   "execution_count": 36,
   "id": "cbbcb2a9-063b-4fd6-9e7a-d8f55a958dd5",
   "metadata": {},
   "outputs": [
    {
     "data": {
      "text/plain": [
       "'Shah Rukh Khan'"
      ]
     },
     "execution_count": 36,
     "metadata": {},
     "output_type": "execute_result"
    }
   ],
   "source": [
    "# lable indexing\n",
    "movies_series[\"Hum Tumhare Hain Sanam\"]"
   ]
  },
  {
   "cell_type": "code",
   "execution_count": 46,
   "id": "5ba3c11b-a59c-420d-aaf2-e6b9174c1313",
   "metadata": {},
   "outputs": [
    {
     "data": {
      "text/plain": [
       "['IND', 'PAK', 'USA', 'BAN', 'CHAINA']"
      ]
     },
     "execution_count": 46,
     "metadata": {},
     "output_type": "execute_result"
    }
   ],
   "source": [
    "# Editing series\n",
    "countries"
   ]
  },
  {
   "cell_type": "code",
   "execution_count": 47,
   "id": "2cac5b02-eda0-46d0-aaeb-07d955d1971f",
   "metadata": {},
   "outputs": [],
   "source": [
    "# using index\n",
    "countries[2] = \"UAE\""
   ]
  },
  {
   "cell_type": "code",
   "execution_count": 48,
   "id": "470bb64b-cc3a-437b-81f7-f246ba82a72b",
   "metadata": {},
   "outputs": [
    {
     "data": {
      "text/plain": [
       "['IND', 'PAK', 'UAE', 'BAN', 'CHAINA']"
      ]
     },
     "execution_count": 48,
     "metadata": {},
     "output_type": "execute_result"
    }
   ],
   "source": [
    "countries"
   ]
  },
  {
   "cell_type": "code",
   "execution_count": 58,
   "id": "96fceaef-89b6-42c1-876b-eb7c92d479d1",
   "metadata": {},
   "outputs": [],
   "source": [
    "# if index in not exist \n",
    "vk[512] = 100 "
   ]
  },
  {
   "cell_type": "code",
   "execution_count": 60,
   "id": "0b606374-19e9-4093-acf4-488464e55913",
   "metadata": {},
   "outputs": [
    {
     "data": {
      "text/plain": [
       "100"
      ]
     },
     "execution_count": 60,
     "metadata": {},
     "output_type": "execute_result"
    }
   ],
   "source": [
    "vk[512]"
   ]
  },
  {
   "cell_type": "code",
   "execution_count": 64,
   "id": "f547ea31-37ed-4135-8661-3507483ff9e3",
   "metadata": {},
   "outputs": [],
   "source": [
    "# using nagative indexing\n",
    "countries[-1] = \"SRI\""
   ]
  },
  {
   "cell_type": "code",
   "execution_count": 80,
   "id": "5f8fc933-8a87-45a7-a84c-69f2a41904e3",
   "metadata": {},
   "outputs": [],
   "source": [
    "# using scling\n",
    "numbers[2:4] = [100, 100]"
   ]
  },
  {
   "cell_type": "code",
   "execution_count": 81,
   "id": "5e7c4e44-96ae-4534-954a-0f353cb98f7d",
   "metadata": {},
   "outputs": [
    {
     "data": {
      "text/plain": [
       "[23, 87, 100, 100, 100, 109]"
      ]
     },
     "execution_count": 81,
     "metadata": {},
     "output_type": "execute_result"
    }
   ],
   "source": [
    "numbers"
   ]
  },
  {
   "cell_type": "code",
   "execution_count": 83,
   "id": "d1569281-268c-4fe6-b04c-db843420ce15",
   "metadata": {},
   "outputs": [],
   "source": [
    "# using lable\n",
    "movies_series[\"Evening Shadows\"] = \"Ayush Maan Khuran\""
   ]
  },
  {
   "cell_type": "code",
   "execution_count": 84,
   "id": "cac1cb21-c081-4496-8161-cf2c4334c051",
   "metadata": {},
   "outputs": [
    {
     "data": {
      "text/plain": [
       "movie\n",
       "Uri: The Surgical Strike                    Vicky Kaushal\n",
       "Battalion 609                                 Vicky Ahuja\n",
       "The Accidental Prime Minister (film)          Anupam Kher\n",
       "Why Cheat India                             Emraan Hashmi\n",
       "Evening Shadows                         Ayush Maan Khuran\n",
       "                                              ...        \n",
       "Hum Tumhare Hain Sanam                     Shah Rukh Khan\n",
       "Aankhen (2002 film)                      Amitabh Bachchan\n",
       "Saathiya (film)                              Vivek Oberoi\n",
       "Company (film)                                 Ajay Devgn\n",
       "Awara Paagal Deewana                         Akshay Kumar\n",
       "Name: lead, Length: 1500, dtype: object"
      ]
     },
     "execution_count": 84,
     "metadata": {},
     "output_type": "execute_result"
    }
   ],
   "source": [
    "movies_series"
   ]
  },
  {
   "cell_type": "code",
   "execution_count": 91,
   "id": "fcdb666c-05f6-4ff5-b412-0527cd62f3eb",
   "metadata": {},
   "outputs": [
    {
     "ename": "TypeError",
     "evalue": "list indices must be integers or slices, not list",
     "output_type": "error",
     "traceback": [
      "\u001b[0;31m---------------------------------------------------------------------------\u001b[0m",
      "\u001b[0;31mTypeError\u001b[0m                                 Traceback (most recent call last)",
      "Cell \u001b[0;32mIn[91], line 2\u001b[0m\n\u001b[1;32m      1\u001b[0m \u001b[38;5;66;03m# using fancy indexing\u001b[39;00m\n\u001b[0;32m----> 2\u001b[0m \u001b[43mnumbers\u001b[49m\u001b[43m[\u001b[49m\u001b[43m[\u001b[49m\u001b[38;5;241;43m0\u001b[39;49m\u001b[43m,\u001b[49m\u001b[43m \u001b[49m\u001b[38;5;241;43m2\u001b[39;49m\u001b[43m]\u001b[49m\u001b[43m]\u001b[49m\n",
      "\u001b[0;31mTypeError\u001b[0m: list indices must be integers or slices, not list"
     ]
    }
   ],
   "source": [
    "# using fancy indexing\n",
    "numbers[[0, 2]]"
   ]
  },
  {
   "cell_type": "code",
   "execution_count": null,
   "id": "c83ac4f9-bbcc-48fa-98b9-beb127389151",
   "metadata": {},
   "outputs": [],
   "source": []
  },
  {
   "cell_type": "code",
   "execution_count": 92,
   "id": "20a002e2-4b9f-4a34-9949-a18519d765ab",
   "metadata": {},
   "outputs": [],
   "source": [
    "# Series with python functionality"
   ]
  },
  {
   "cell_type": "code",
   "execution_count": 95,
   "id": "1e11c94f-c775-4c87-bebe-7ea06c759f0e",
   "metadata": {},
   "outputs": [
    {
     "data": {
      "text/plain": [
       "[23, 87, 100, 100, 100, 109]"
      ]
     },
     "execution_count": 95,
     "metadata": {},
     "output_type": "execute_result"
    }
   ],
   "source": [
    "# len / type / dir / sorted / max / min\n",
    "numbers"
   ]
  },
  {
   "cell_type": "code",
   "execution_count": 97,
   "id": "3e5ff25a-01c3-4764-9fbe-17cd51911430",
   "metadata": {},
   "outputs": [
    {
     "data": {
      "text/plain": [
       "[23, 87, 100, 100, 100, 109]"
      ]
     },
     "execution_count": 97,
     "metadata": {},
     "output_type": "execute_result"
    }
   ],
   "source": [
    "sorted(numbers)"
   ]
  },
  {
   "cell_type": "code",
   "execution_count": 98,
   "id": "2bea562c-03fc-4271-9f5d-15d7c264f9fe",
   "metadata": {},
   "outputs": [],
   "source": [
    "# type conversion"
   ]
  },
  {
   "cell_type": "code",
   "execution_count": 103,
   "id": "9f023cad-825a-4215-b718-f811f9290c5e",
   "metadata": {},
   "outputs": [
    {
     "data": {
      "text/plain": [
       "[1,\n",
       " 23,\n",
       " 13,\n",
       " 12,\n",
       " 1,\n",
       " 9,\n",
       " 34,\n",
       " 0,\n",
       " 21,\n",
       " 3,\n",
       " 10,\n",
       " 38,\n",
       " 3,\n",
       " 11,\n",
       " 50,\n",
       " 2,\n",
       " 22,\n",
       " 19,\n",
       " 16,\n",
       " 15,\n",
       " 20,\n",
       " 38,\n",
       " 19,\n",
       " 24,\n",
       " 7,\n",
       " 2,\n",
       " 16,\n",
       " 17,\n",
       " 24,\n",
       " 38,\n",
       " 34,\n",
       " 42,\n",
       " 13,\n",
       " 58,\n",
       " 3,\n",
       " 14,\n",
       " 37,\n",
       " 9,\n",
       " 23,\n",
       " 12,\n",
       " 71,\n",
       " 35,\n",
       " 30,\n",
       " 56,\n",
       " 67,\n",
       " 27,\n",
       " 27,\n",
       " 39,\n",
       " 15,\n",
       " 11,\n",
       " 31,\n",
       " 70,\n",
       " 8,\n",
       " 35,\n",
       " 8,\n",
       " 6,\n",
       " 57,\n",
       " 22,\n",
       " 16,\n",
       " 4,\n",
       " 16,\n",
       " 18,\n",
       " 45,\n",
       " 9,\n",
       " 36,\n",
       " 9,\n",
       " 3,\n",
       " 73,\n",
       " 42,\n",
       " 24,\n",
       " 51,\n",
       " 35,\n",
       " 58,\n",
       " 65,\n",
       " 1,\n",
       " 11,\n",
       " 1,\n",
       " 32,\n",
       " 25,\n",
       " 57,\n",
       " 93,\n",
       " 99,\n",
       " 17,\n",
       " 14,\n",
       " 56,\n",
       " 49,\n",
       " 0,\n",
       " 31,\n",
       " 21,\n",
       " 4,\n",
       " 0,\n",
       " 35,\n",
       " 0,\n",
       " 4,\n",
       " 10,\n",
       " 27,\n",
       " 67,\n",
       " 38,\n",
       " 73,\n",
       " 13,\n",
       " 41,\n",
       " 18,\n",
       " 51,\n",
       " 62,\n",
       " 35,\n",
       " 1,\n",
       " 34,\n",
       " 48,\n",
       " 32,\n",
       " 82,\n",
       " 19,\n",
       " 44,\n",
       " 1,\n",
       " 12,\n",
       " 12,\n",
       " 75,\n",
       " 79,\n",
       " 33,\n",
       " 80,\n",
       " 100,\n",
       " 14,\n",
       " 52,\n",
       " 108,\n",
       " 20,\n",
       " 7,\n",
       " 109,\n",
       " 75,\n",
       " 113,\n",
       " 54,\n",
       " 0,\n",
       " 54,\n",
       " 62,\n",
       " 28,\n",
       " 64,\n",
       " 0,\n",
       " 10,\n",
       " 55,\n",
       " 20,\n",
       " 6,\n",
       " 5,\n",
       " 58,\n",
       " 31,\n",
       " 21,\n",
       " 57,\n",
       " 92,\n",
       " 30,\n",
       " 18,\n",
       " 68,\n",
       " 32,\n",
       " 8,\n",
       " 39,\n",
       " 70,\n",
       " 48,\n",
       " 12,\n",
       " 4,\n",
       " 6,\n",
       " 46,\n",
       " 3,\n",
       " 23,\n",
       " 84,\n",
       " 41,\n",
       " 67,\n",
       " 8,\n",
       " 100,\n",
       " 9,\n",
       " 13,\n",
       " 23,\n",
       " 25,\n",
       " 16,\n",
       " 18,\n",
       " 9,\n",
       " 7,\n",
       " 29,\n",
       " 1,\n",
       " 72,\n",
       " 43,\n",
       " 43,\n",
       " 90,\n",
       " 48,\n",
       " 14,\n",
       " 33,\n",
       " 50,\n",
       " 8,\n",
       " 6,\n",
       " 33,\n",
       " 33,\n",
       " 5,\n",
       " 72,\n",
       " 8,\n",
       " 12,\n",
       " 35,\n",
       " 5,\n",
       " 25,\n",
       " 5,\n",
       " 4,\n",
       " 25,\n",
       " 51,\n",
       " 53,\n",
       " 39,\n",
       " 41,\n",
       " 12,\n",
       " 5,\n",
       " 48,\n",
       " 1,\n",
       " 12,\n",
       " 0,\n",
       " 0,\n",
       " 9,\n",
       " 58,\n",
       " 30,\n",
       " 0,\n",
       " 20,\n",
       " 73,\n",
       " 25,\n",
       " 7,\n",
       " 100]"
      ]
     },
     "execution_count": 103,
     "metadata": {},
     "output_type": "execute_result"
    }
   ],
   "source": [
    "list(vk)"
   ]
  },
  {
   "cell_type": "code",
   "execution_count": 104,
   "id": "517452ae-9f13-4b4b-845e-104435f65f5d",
   "metadata": {},
   "outputs": [],
   "source": [
    "# member operation"
   ]
  },
  {
   "cell_type": "code",
   "execution_count": 107,
   "id": "be5bc55d-2b0a-45ba-85ec-b87e4e38304d",
   "metadata": {},
   "outputs": [
    {
     "data": {
      "text/plain": [
       "True"
      ]
     },
     "execution_count": 107,
     "metadata": {},
     "output_type": "execute_result"
    }
   ],
   "source": [
    "# check on the index\n",
    "\"Evening Shadows\" in movies_series"
   ]
  },
  {
   "cell_type": "code",
   "execution_count": 109,
   "id": "d0ad38de-8081-40b9-bb55-a331fcd5d4a7",
   "metadata": {},
   "outputs": [
    {
     "data": {
      "text/plain": [
       "False"
      ]
     },
     "execution_count": 109,
     "metadata": {},
     "output_type": "execute_result"
    }
   ],
   "source": [
    "# check on the values\n",
    "\"Emraan Hashmi\" in movies_series"
   ]
  },
  {
   "cell_type": "code",
   "execution_count": 110,
   "id": "e952ab5f-9dba-431b-89fd-f39f98d5ddc0",
   "metadata": {},
   "outputs": [],
   "source": [
    "# loop"
   ]
  },
  {
   "cell_type": "code",
   "execution_count": 112,
   "id": "0b52720b-7bd3-44b7-ad81-6c890990a9d5",
   "metadata": {},
   "outputs": [
    {
     "name": "stdout",
     "output_type": "stream",
     "text": [
      "23\n",
      "87\n",
      "100\n",
      "100\n",
      "100\n",
      "109\n"
     ]
    }
   ],
   "source": [
    "for i in numbers:\n",
    "    print(i)"
   ]
  },
  {
   "cell_type": "code",
   "execution_count": 117,
   "id": "8a2cb77b-d3b5-496b-9669-bf139d93ef77",
   "metadata": {},
   "outputs": [],
   "source": [
    "# relational operation (it gives the boolean series)"
   ]
  },
  {
   "cell_type": "code",
   "execution_count": 176,
   "id": "d5396f45-9664-47d3-90ec-d3336be78fdf",
   "metadata": {},
   "outputs": [
    {
     "data": {
      "text/plain": [
       "pandas.core.series.Series"
      ]
     },
     "execution_count": 176,
     "metadata": {},
     "output_type": "execute_result"
    }
   ],
   "source": [
    "century = vk[vk >= 100]\n",
    "century.size"
   ]
  },
  {
   "cell_type": "code",
   "execution_count": 138,
   "id": "ae8bdfb9-1b8c-4bd4-bcc0-75337d7eab67",
   "metadata": {},
   "outputs": [
    {
     "data": {
      "text/plain": [
       "50"
      ]
     },
     "execution_count": 138,
     "metadata": {},
     "output_type": "execute_result"
    }
   ],
   "source": [
    "# find the number of 50's and 100's scored by virat kohalise\n",
    "score = vk[vk >= 50]\n",
    "score.size"
   ]
  },
  {
   "cell_type": "code",
   "execution_count": 141,
   "id": "a9e45950-5482-4457-a3ce-fbc4f2755355",
   "metadata": {},
   "outputs": [
    {
     "data": {
      "text/plain": [
       "9"
      ]
     },
     "execution_count": 141,
     "metadata": {},
     "output_type": "execute_result"
    }
   ],
   "source": [
    "# find the number of ducks\n",
    "score = vk[vk == 0]\n",
    "score.size"
   ]
  },
  {
   "cell_type": "code",
   "execution_count": 150,
   "id": "e01e92f8-f562-41a8-98ec-23e12bc46e3f",
   "metadata": {},
   "outputs": [
    {
     "data": {
      "text/plain": [
       "19"
      ]
     },
     "execution_count": 150,
     "metadata": {},
     "output_type": "execute_result"
    }
   ],
   "source": [
    "# count number of day when i had more then 200 subs in a day\n",
    "subscribers = subs[250 <= subs]\n",
    "subscribers.size"
   ]
  },
  {
   "cell_type": "code",
   "execution_count": 164,
   "id": "86f5b94d-d6a3-4413-87d0-b0af51e60cf6",
   "metadata": {},
   "outputs": [
    {
     "data": {
      "text/plain": [
       "lead\n",
       "Akshay Kumar        48\n",
       "Amitabh Bachchan    45\n",
       "Ajay Devgn          38\n",
       "Salman Khan         31\n",
       "Sanjay Dutt         26\n",
       "Name: count, dtype: int64"
      ]
     },
     "execution_count": 164,
     "metadata": {},
     "output_type": "execute_result"
    }
   ],
   "source": [
    "# find actor have more then 20 movies\n",
    "movies_series.value_counts().head(5)"
   ]
  },
  {
   "cell_type": "code",
   "execution_count": 166,
   "id": "a478f875-ddfb-4b14-98a1-f9cb1a17dda2",
   "metadata": {},
   "outputs": [
    {
     "data": {
      "text/plain": [
       "lead\n",
       "Akshay Kumar        48\n",
       "Amitabh Bachchan    45\n",
       "Ajay Devgn          38\n",
       "Salman Khan         31\n",
       "Sanjay Dutt         26\n",
       "                    ..\n",
       "Diganth              1\n",
       "Parveen Kaur         1\n",
       "Seema Azmi           1\n",
       "Akanksha Puri        1\n",
       "Edwin Fernandes      1\n",
       "Name: count, Length: 567, dtype: int64"
      ]
     },
     "execution_count": 166,
     "metadata": {},
     "output_type": "execute_result"
    }
   ],
   "source": [
    "movies_series.value_counts()"
   ]
  },
  {
   "cell_type": "code",
   "execution_count": 167,
   "id": "b344a692-cc82-4a5e-b46f-25c98a070c5f",
   "metadata": {},
   "outputs": [
    {
     "data": {
      "text/plain": [
       "[23, 87, 100, 100, 100, 109]"
      ]
     },
     "execution_count": 167,
     "metadata": {},
     "output_type": "execute_result"
    }
   ],
   "source": [
    "numbers"
   ]
  },
  {
   "cell_type": "code",
   "execution_count": 173,
   "id": "eee8c68e-3eb8-48ee-b863-c797f7637fc9",
   "metadata": {},
   "outputs": [
    {
     "ename": "AttributeError",
     "evalue": "'list' object has no attribute 'loc'",
     "output_type": "error",
     "traceback": [
      "\u001b[0;31m---------------------------------------------------------------------------\u001b[0m",
      "\u001b[0;31mAttributeError\u001b[0m                            Traceback (most recent call last)",
      "Cell \u001b[0;32mIn[173], line 1\u001b[0m\n\u001b[0;32m----> 1\u001b[0m \u001b[43mnumbers\u001b[49m\u001b[38;5;241;43m.\u001b[39;49m\u001b[43mloc\u001b[49m[\u001b[38;5;241m0\u001b[39m, \u001b[38;5;241m1\u001b[39m]\n",
      "\u001b[0;31mAttributeError\u001b[0m: 'list' object has no attribute 'loc'"
     ]
    }
   ],
   "source": [
    "numbers[0, 1]"
   ]
  },
  {
   "cell_type": "code",
   "execution_count": null,
   "id": "d03f789d-f8bf-4f35-8c72-224c6a833054",
   "metadata": {},
   "outputs": [],
   "source": []
  }
 ],
 "metadata": {
  "kernelspec": {
   "display_name": "Python 3 (ipykernel)",
   "language": "python",
   "name": "python3"
  },
  "language_info": {
   "codemirror_mode": {
    "name": "ipython",
    "version": 3
   },
   "file_extension": ".py",
   "mimetype": "text/x-python",
   "name": "python",
   "nbconvert_exporter": "python",
   "pygments_lexer": "ipython3",
   "version": "3.8.10"
  }
 },
 "nbformat": 4,
 "nbformat_minor": 5
}
